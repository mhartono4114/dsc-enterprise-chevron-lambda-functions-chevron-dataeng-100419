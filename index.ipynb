{
 "cells": [
  {
   "cell_type": "markdown",
   "metadata": {},
   "source": [
    "# Lambda Functions\n",
    "\n",
    "## Introduction\n",
    "\n",
    "Lambda functions are often a convenient way to write *throw-away* functions on the fly. If you need to write a more complicated function you may still need to use the more formal `def` method, but lambda functions provide a quick and concise way to write functions.\n",
    "\n",
    "## Objectives\n",
    "You will be able to:\n",
    "* Describe the purpose of lambda functions, when they should be employed, and their limitations   \n",
    "* Create lambda functions to use as arguments of other functions   \n",
    "* Use the `.map()` or `.apply()` method to apply a function to a pandas series or DataFrame\n",
    "\n",
    "\n",
    "## Example\n",
    "\n",
    "Let's say you want to count the number of words in each yelp review."
   ]
  },
  {
   "cell_type": "code",
   "execution_count": 1,
   "metadata": {},
   "outputs": [
    {
     "data": {
      "text/html": [
       "<div>\n",
       "<style scoped>\n",
       "    .dataframe tbody tr th:only-of-type {\n",
       "        vertical-align: middle;\n",
       "    }\n",
       "\n",
       "    .dataframe tbody tr th {\n",
       "        vertical-align: top;\n",
       "    }\n",
       "\n",
       "    .dataframe thead th {\n",
       "        text-align: right;\n",
       "    }\n",
       "</style>\n",
       "<table border=\"1\" class=\"dataframe\">\n",
       "  <thead>\n",
       "    <tr style=\"text-align: right;\">\n",
       "      <th></th>\n",
       "      <th>business_id</th>\n",
       "      <th>cool</th>\n",
       "      <th>date</th>\n",
       "      <th>funny</th>\n",
       "      <th>review_id</th>\n",
       "      <th>stars</th>\n",
       "      <th>text</th>\n",
       "      <th>useful</th>\n",
       "      <th>user_id</th>\n",
       "    </tr>\n",
       "  </thead>\n",
       "  <tbody>\n",
       "    <tr>\n",
       "      <td>1</td>\n",
       "      <td>pomGBqfbxcqPv14c3XH-ZQ</td>\n",
       "      <td>0</td>\n",
       "      <td>2012-11-13</td>\n",
       "      <td>0</td>\n",
       "      <td>dDl8zu1vWPdKGihJrwQbpw</td>\n",
       "      <td>5</td>\n",
       "      <td>I love this place! My fiance And I go here atl...</td>\n",
       "      <td>0</td>\n",
       "      <td>msQe1u7Z_XuqjGoqhB0J5g</td>\n",
       "    </tr>\n",
       "    <tr>\n",
       "      <td>2</td>\n",
       "      <td>jtQARsP6P-LbkyjbO1qNGg</td>\n",
       "      <td>1</td>\n",
       "      <td>2014-10-23</td>\n",
       "      <td>1</td>\n",
       "      <td>LZp4UX5zK3e-c5ZGSeo3kA</td>\n",
       "      <td>1</td>\n",
       "      <td>Terrible. Dry corn bread. Rib tips were all fa...</td>\n",
       "      <td>3</td>\n",
       "      <td>msQe1u7Z_XuqjGoqhB0J5g</td>\n",
       "    </tr>\n",
       "  </tbody>\n",
       "</table>\n",
       "</div>"
      ],
      "text/plain": [
       "              business_id  cool        date  funny               review_id  \\\n",
       "1  pomGBqfbxcqPv14c3XH-ZQ     0  2012-11-13      0  dDl8zu1vWPdKGihJrwQbpw   \n",
       "2  jtQARsP6P-LbkyjbO1qNGg     1  2014-10-23      1  LZp4UX5zK3e-c5ZGSeo3kA   \n",
       "\n",
       "   stars                                               text  useful  \\\n",
       "1      5  I love this place! My fiance And I go here atl...       0   \n",
       "2      1  Terrible. Dry corn bread. Rib tips were all fa...       3   \n",
       "\n",
       "                  user_id  \n",
       "1  msQe1u7Z_XuqjGoqhB0J5g  \n",
       "2  msQe1u7Z_XuqjGoqhB0J5g  "
      ]
     },
     "execution_count": 1,
     "metadata": {},
     "output_type": "execute_result"
    }
   ],
   "source": [
    "import pandas as pd\n",
    "df = pd.read_csv('Yelp_Reviews.csv', index_col=0)\n",
    "df.head(2)"
   ]
  },
  {
   "cell_type": "code",
   "execution_count": 2,
   "metadata": {},
   "outputs": [
    {
     "data": {
      "text/plain": [
       "1     58\n",
       "2     30\n",
       "4     30\n",
       "5     82\n",
       "10    32\n",
       "Name: text, dtype: int64"
      ]
     },
     "execution_count": 2,
     "metadata": {},
     "output_type": "execute_result"
    }
   ],
   "source": [
    "df['text'].map(lambda x: len(x.split())).head()"
   ]
  },
  {
   "cell_type": "markdown",
   "metadata": {},
   "source": [
    "Similar to defining functions in general or naming the iterable in `for` loops, the variable that you use after calling the `lambda` keyword does not matter: "
   ]
  },
  {
   "cell_type": "code",
   "execution_count": 3,
   "metadata": {},
   "outputs": [
    {
     "data": {
      "text/plain": [
       "1     58\n",
       "2     30\n",
       "4     30\n",
       "5     82\n",
       "10    32\n",
       "Name: text, dtype: int64"
      ]
     },
     "execution_count": 3,
     "metadata": {},
     "output_type": "execute_result"
    }
   ],
   "source": [
    "df['text'].map(lambda review_text: len(review_text.split())).head()"
   ]
  },
  {
   "cell_type": "markdown",
   "metadata": {},
   "source": [
    "## Lambda functions with conditionals\n",
    "Lambda functions can also accept some conditionals if chained in a list comprehension"
   ]
  },
  {
   "cell_type": "code",
   "execution_count": 4,
   "metadata": {},
   "outputs": [
    {
     "data": {
      "text/plain": [
       "1     Good\n",
       "2      Bad\n",
       "4     Good\n",
       "5      Bad\n",
       "10     Bad\n",
       "Name: text, dtype: object"
      ]
     },
     "execution_count": 4,
     "metadata": {},
     "output_type": "execute_result"
    }
   ],
   "source": [
    "df['text'].map(lambda x: 'Good' if any([word in x.lower() for word in ['awesome', 'love', 'good', 'great']]) else 'Bad').head()"
   ]
  },
  {
   "cell_type": "markdown",
   "metadata": {},
   "source": [
    "## Note\n",
    "The above is terribly poor style and does in no way represent [PEP 8](https://www.python.org/dev/peps/pep-0008/) or Pythonic style. (For example, no line should be over 72 characters according to PEP 8; the previous line was 127 characters.) That said, it is an interesting demonstration of chaining a conditional, any method, and a list comprehension all inside a lambda function!   \n",
    "Shew!"
   ]
  },
  {
   "cell_type": "markdown",
   "metadata": {},
   "source": [
    "## Returning to a more manageable example...\n",
    "\n",
    "Perhaps we want to naively select the year from the date string rather than convert it to a datetime object."
   ]
  },
  {
   "cell_type": "code",
   "execution_count": 5,
   "metadata": {},
   "outputs": [
    {
     "data": {
      "text/plain": [
       "1     2012\n",
       "2     2014\n",
       "4     2014\n",
       "5     2011\n",
       "10    2016\n",
       "Name: date, dtype: object"
      ]
     },
     "execution_count": 5,
     "metadata": {},
     "output_type": "execute_result"
    }
   ],
   "source": [
    "df.date.map(lambda x: x[:4]).head()"
   ]
  },
  {
   "cell_type": "markdown",
   "metadata": {},
   "source": [
    "## Lambda functions are also useful within the `sort()` function\n"
   ]
  },
  {
   "cell_type": "code",
   "execution_count": 4,
   "metadata": {},
   "outputs": [
    {
     "data": {
      "text/plain": [
       "['Audrey Mayer',\n",
       " 'Bethany Martin',\n",
       " 'Carter Wong',\n",
       " 'Eddie Reeves',\n",
       " 'Elaine Barrera',\n",
       " 'Jaiden Liu',\n",
       " 'Kameron Davidson',\n",
       " 'Marley Beard',\n",
       " 'Miriam Marks',\n",
       " 'Sidney Baird',\n",
       " 'Stephen Rios',\n",
       " 'Teagan Bennett']"
      ]
     },
     "execution_count": 4,
     "metadata": {},
     "output_type": "execute_result"
    }
   ],
   "source": [
    "# Without a key\n",
    "names = ['Miriam Marks','Sidney Baird','Elaine Barrera','Eddie Reeves','Marley Beard',\n",
    "         'Jaiden Liu','Bethany Martin','Stephen Rios','Audrey Mayer','Kameron Davidson',\n",
    "         'Carter Wong','Teagan Bennett']\n",
    "sorted(names)"
   ]
  },
  {
   "cell_type": "code",
   "execution_count": 5,
   "metadata": {},
   "outputs": [
    {
     "data": {
      "text/plain": [
       "['Sidney Baird',\n",
       " 'Elaine Barrera',\n",
       " 'Marley Beard',\n",
       " 'Teagan Bennett',\n",
       " 'Kameron Davidson',\n",
       " 'Jaiden Liu',\n",
       " 'Miriam Marks',\n",
       " 'Bethany Martin',\n",
       " 'Audrey Mayer',\n",
       " 'Eddie Reeves',\n",
       " 'Stephen Rios']"
      ]
     },
     "execution_count": 5,
     "metadata": {},
     "output_type": "execute_result"
    }
   ],
   "source": [
    "# Sorting by last name\n",
    "names = ['Miriam Marks','Sidney Baird','Elaine Barrera','Eddie Reeves','Marley Beard',\n",
    "         'Jaiden Liu','Bethany Martin','Stephen Rios','Audrey Mayer','Kameron Davidson',\n",
    "'Teagan Bennett']\n",
    "sorted(names, key=lambda x: x.split()[1])\n"
   ]
  },
  {
   "cell_type": "markdown",
   "metadata": {},
   "source": [
    "## A general approach to writing [Data Transformation] Functions\n",
    "\n",
    "Above, we've covered a lot of the syntax of lambda functions, but the thought process for writing these complex transformations was not transparent. Let's take a minute to discuss some approaches to tackling these problems.\n",
    "\n",
    "## Experiment and solve for individual cases first\n",
    "\n",
    "Before trying to write a function to apply to an entire series, it's typically easier to attempt to solve for an individual case. For example, if we're trying to determine the number of words in a review, we can try and do this for a single review first."
   ]
  },
  {
   "cell_type": "markdown",
   "metadata": {},
   "source": [
    "First, choose an example field that you'll be applying the function to."
   ]
  },
  {
   "cell_type": "code",
   "execution_count": 7,
   "metadata": {},
   "outputs": [
    {
     "data": {
      "text/plain": [
       "'I love this place! My fiance And I go here atleast once a week. The portions are huge! Food is amazing. I love their carne asada. They have great lunch specials... Leticia is super nice and cares about what you think of her restaurant. You have to try their cheese enchiladas too the sauce is different And amazing!!!'"
      ]
     },
     "execution_count": 7,
     "metadata": {},
     "output_type": "execute_result"
    }
   ],
   "source": [
    "example = df['text'].iloc[0]\n",
    "example"
   ]
  },
  {
   "cell_type": "markdown",
   "metadata": {},
   "source": [
    "Then start writing the function for that example. For example, if we need to count the number of words, it's natural to first divide the review into words. A natural way to do this is with the str.split() method. "
   ]
  },
  {
   "cell_type": "code",
   "execution_count": 8,
   "metadata": {},
   "outputs": [
    {
     "data": {
      "text/plain": [
       "['I',\n",
       " 'love',\n",
       " 'this',\n",
       " 'place!',\n",
       " 'My',\n",
       " 'fiance',\n",
       " 'And',\n",
       " 'I',\n",
       " 'go',\n",
       " 'here',\n",
       " 'atleast',\n",
       " 'once',\n",
       " 'a',\n",
       " 'week.',\n",
       " 'The',\n",
       " 'portions',\n",
       " 'are',\n",
       " 'huge!',\n",
       " 'Food',\n",
       " 'is',\n",
       " 'amazing.',\n",
       " 'I',\n",
       " 'love',\n",
       " 'their',\n",
       " 'carne',\n",
       " 'asada.',\n",
       " 'They',\n",
       " 'have',\n",
       " 'great',\n",
       " 'lunch',\n",
       " 'specials...',\n",
       " 'Leticia',\n",
       " 'is',\n",
       " 'super',\n",
       " 'nice',\n",
       " 'and',\n",
       " 'cares',\n",
       " 'about',\n",
       " 'what',\n",
       " 'you',\n",
       " 'think',\n",
       " 'of',\n",
       " 'her',\n",
       " 'restaurant.',\n",
       " 'You',\n",
       " 'have',\n",
       " 'to',\n",
       " 'try',\n",
       " 'their',\n",
       " 'cheese',\n",
       " 'enchiladas',\n",
       " 'too',\n",
       " 'the',\n",
       " 'sauce',\n",
       " 'is',\n",
       " 'different',\n",
       " 'And',\n",
       " 'amazing!!!']"
      ]
     },
     "execution_count": 8,
     "metadata": {},
     "output_type": "execute_result"
    }
   ],
   "source": [
    "example.split()"
   ]
  },
  {
   "cell_type": "markdown",
   "metadata": {},
   "source": [
    "Then we just need to count this!"
   ]
  },
  {
   "cell_type": "code",
   "execution_count": 9,
   "metadata": {},
   "outputs": [
    {
     "data": {
      "text/plain": [
       "58"
      ]
     },
     "execution_count": 9,
     "metadata": {},
     "output_type": "execute_result"
    }
   ],
   "source": [
    "len(example.split())"
   ]
  },
  {
   "cell_type": "markdown",
   "metadata": {},
   "source": [
    "## Then return to solving for all!"
   ]
  },
  {
   "cell_type": "code",
   "execution_count": 10,
   "metadata": {},
   "outputs": [
    {
     "data": {
      "text/plain": [
       "1     58\n",
       "2     30\n",
       "4     30\n",
       "5     82\n",
       "10    32\n",
       "Name: text, dtype: int64"
      ]
     },
     "execution_count": 10,
     "metadata": {},
     "output_type": "execute_result"
    }
   ],
   "source": [
    "df['text'].map(lambda x: len(x.split())).head()"
   ]
  },
  {
   "cell_type": "markdown",
   "metadata": {},
   "source": [
    "## Watch for edge cases and exceptions\n",
    "\n",
    "When generalizing from a single case to all cases, it's important to consider exceptions or edge cases. For example, in the above example, you might wonder whether extra spaces or punctuations effects the output."
   ]
  },
  {
   "cell_type": "code",
   "execution_count": 11,
   "metadata": {},
   "outputs": [
    {
     "data": {
      "text/plain": [
       "['this', 'is', 'a', 'weird', 'test!!!Can', 'we', 'break', 'it??']"
      ]
     },
     "execution_count": 11,
     "metadata": {},
     "output_type": "execute_result"
    }
   ],
   "source": [
    "'this is a      weird test!!!Can we break it??'.split()"
   ]
  },
  {
   "cell_type": "markdown",
   "metadata": {},
   "source": [
    "As you can see, extra spaces won't break our function, but missing a space after punctuation will. Perhaps this is a rare enough event that we don't worry further, but exceptions are always something to consider when writing functions.\n",
    "\n",
    "## Other Common Patterns: the % and // operators\n",
    "\n",
    "Another common pattern that you may find very useful is the modulus or remainder operator (%), as well as the floor division operator (//). These are both very useful when you want behavior such as 'every fourth element' or 'groups of three consecutive elements'. Let's investigate a couple of examples."
   ]
  },
  {
   "cell_type": "markdown",
   "metadata": {},
   "source": [
    "### The modulus operator (%)\n",
    "Useful for queries such as 'every other element' or 'every fifth element' etc."
   ]
  },
  {
   "cell_type": "code",
   "execution_count": 22,
   "metadata": {},
   "outputs": [
    {
     "data": {
      "text/plain": [
       "1"
      ]
     },
     "execution_count": 22,
     "metadata": {},
     "output_type": "execute_result"
    }
   ],
   "source": [
    "# Try a single example\n",
    "3%2"
   ]
  },
  {
   "cell_type": "code",
   "execution_count": 13,
   "metadata": {},
   "outputs": [
    {
     "data": {
      "text/plain": [
       "0"
      ]
     },
     "execution_count": 13,
     "metadata": {},
     "output_type": "execute_result"
    }
   ],
   "source": [
    "2%2"
   ]
  },
  {
   "cell_type": "code",
   "execution_count": 15,
   "metadata": {},
   "outputs": [
    {
     "name": "stdout",
     "output_type": "stream",
     "text": [
      "i: 0, i%2: 0\n",
      "i: 1, i%2: 1\n",
      "i: 2, i%2: 0\n",
      "i: 3, i%2: 1\n",
      "i: 4, i%2: 0\n",
      "i: 5, i%2: 1\n",
      "i: 6, i%2: 0\n",
      "i: 7, i%2: 1\n",
      "i: 8, i%2: 0\n",
      "i: 9, i%2: 1\n"
     ]
    }
   ],
   "source": [
    "# Generalize the pattern: every other\n",
    "for i in range(10):\n",
    "    print('i: {}, i%2: {}'.format(i, i%2))"
   ]
  },
  {
   "cell_type": "markdown",
   "metadata": {},
   "source": [
    "### The floor division (//) operator\n",
    "Useful for creating groups of a set size. For example: groups of ten, groups of seven, etc."
   ]
  },
  {
   "cell_type": "code",
   "execution_count": 16,
   "metadata": {},
   "outputs": [],
   "source": [
    "# Try a single example"
   ]
  },
  {
   "cell_type": "code",
   "execution_count": 23,
   "metadata": {},
   "outputs": [
    {
     "data": {
      "text/plain": [
       "3"
      ]
     },
     "execution_count": 23,
     "metadata": {},
     "output_type": "execute_result"
    }
   ],
   "source": [
    "9//3"
   ]
  },
  {
   "cell_type": "code",
   "execution_count": 27,
   "metadata": {},
   "outputs": [
    {
     "data": {
      "text/plain": [
       "1"
      ]
     },
     "execution_count": 27,
     "metadata": {},
     "output_type": "execute_result"
    }
   ],
   "source": [
    "5//3"
   ]
  },
  {
   "cell_type": "code",
   "execution_count": 28,
   "metadata": {},
   "outputs": [
    {
     "name": "stdout",
     "output_type": "stream",
     "text": [
      "i: 0, i//2: 0\n",
      "i: 1, i//2: 0\n",
      "i: 2, i//2: 0\n",
      "i: 3, i//2: 1\n",
      "i: 4, i//2: 1\n",
      "i: 5, i//2: 1\n",
      "i: 6, i//2: 2\n",
      "i: 7, i//2: 2\n",
      "i: 8, i//2: 2\n",
      "i: 9, i//2: 3\n"
     ]
    }
   ],
   "source": [
    "# Generalize the pattern: every other\n",
    "for i in range(10):\n",
    "    print('i: {}, i//2: {}'.format(i, i//3))"
   ]
  },
  {
   "cell_type": "markdown",
   "metadata": {},
   "source": [
    "### Combining % and //\n",
    "\n",
    "Combining the two can be very useful, such as when creating subplots!\n",
    "Below we iterate through 12 elements arranging them into 3 rows and 4 columns."
   ]
  },
  {
   "cell_type": "code",
   "execution_count": 29,
   "metadata": {},
   "outputs": [
    {
     "name": "stdout",
     "output_type": "stream",
     "text": [
      "i: 0, Row: 0 Column: 0\n",
      "i: 1, Row: 0 Column: 1\n",
      "i: 2, Row: 0 Column: 2\n",
      "i: 3, Row: 0 Column: 3\n",
      "i: 4, Row: 1 Column: 0\n",
      "i: 5, Row: 1 Column: 1\n",
      "i: 6, Row: 1 Column: 2\n",
      "i: 7, Row: 1 Column: 3\n",
      "i: 8, Row: 2 Column: 0\n",
      "i: 9, Row: 2 Column: 1\n",
      "i: 10, Row: 2 Column: 2\n",
      "i: 11, Row: 2 Column: 3\n"
     ]
    }
   ],
   "source": [
    "for i in range(12):\n",
    "    print('i: {}, Row: {} Column: {}'.format(i, i//4, i%4))"
   ]
  },
  {
   "cell_type": "code",
   "execution_count": 31,
   "metadata": {},
   "outputs": [],
   "source": [
    "import numpy as np\n",
    "import matplotlib.pyplot as plt\n",
    "%matplotlib inline"
   ]
  },
  {
   "cell_type": "code",
   "execution_count": 33,
   "metadata": {},
   "outputs": [
    {
     "data": {
      "image/png": "[encoded data removed]",
      "text/plain": [
       "<Figure size 720x720 with 15 Axes>"
      ]
     },
     "metadata": {
      "needs_background": "light"
     },
     "output_type": "display_data"
    }
   ],
   "source": [
    "fig, axes = plt.subplots(nrows=3, ncols=4, figsize=(10,10))\n",
    "x = np.linspace(start=-10, stop=10, num=10*83)\n",
    "for i in range(12):\n",
    "    row = i//4\n",
    "    col = i%4\n",
    "    ax = axes[row, col]\n",
    "    ax.scatter(x, x**i)\n",
    "    ax.set_title('Plot of x^{}'.format(i))\n",
    "plt.show()"
   ]
  },
  {
   "cell_type": "markdown",
   "metadata": {
    "collapsed": true
   },
   "source": [
    "## Summary\n",
    "\n",
    "Lambda functions can be a convenient way to write \"throw away\" functions that you want to declare inline. In the next lesson we'll give you some practice with creating them!"
   ]
  }
 ],
 "metadata": {
  "kernelspec": {
   "display_name": "Python 3",
   "language": "python",
   "name": "python3"
  },
  "language_info": {
   "codemirror_mode": {
    "name": "ipython",
    "version": 3
   },
   "file_extension": ".py",
   "mimetype": "text/x-python",
   "name": "python",
   "nbconvert_exporter": "python",
   "pygments_lexer": "ipython3",
   "version": "3.6.9"
  }
 },
 "nbformat": 4,
 "nbformat_minor": 2
}
